{
 "cells": [
  {
   "cell_type": "code",
   "execution_count": null,
   "id": "cf6ff18e-049a-4183-9a08-2c2166627a49",
   "metadata": {},
   "outputs": [],
   "source": [
    "# Q1. Discuss string slicing and provide examples."
   ]
  },
  {
   "cell_type": "raw",
   "id": "5947de75-c4ed-4827-b465-1c7117b52b95",
   "metadata": {},
   "source": [
    "String slicing allows you to access a specific part of a string using a [start:stop:step] syntax.\n",
    "\n",
    "start: The index where the slice starts (inclusive).\n",
    "stop: The index where the slice ends (exclusive).\n",
    "step: The interval between each index (optional)."
   ]
  },
  {
   "cell_type": "code",
   "execution_count": null,
   "id": "f9a1268b-6d01-4991-b414-fbdb0b624637",
   "metadata": {},
   "outputs": [
    {
     "name": "stdout",
     "output_type": "stream",
     "text": [
      "Hello\n",
      "Hlo ol\n",
      "World\n",
      "Hello\n",
      "World!\n",
      "Hello, World!\n"
     ]
    }
   ],
   "source": [
    "text = \"Hello, World!\"\n",
    "\n",
    "# Basic slicing\n",
    "print(text[0:5])   # Output: 'Hello' (characters from index 0 to 4)\n",
    "\n",
    "# Slicing with step\n",
    "print(text[0:12:2])  # Output: 'Hlo ol' (every 2nd character from index 0 to 11)\n",
    "\n",
    "# Slicing with negative indices\n",
    "print(text[-6:-1])  # Output: 'World' (characters from index -6 to -2)\n",
    "\n",
    "# Omitting start or stop\n",
    "print(text[:5])   # Output: 'Hello' (characters from the beginning to index 4)\n",
    "\n",
    "print(text[7:])   # Output: 'World!' (characters from index 7 to the end)\n",
    "\n",
    "# Omitting both start, stop, and step\n",
    "print(text[:])    # Output: 'Hello, World!' (whole string)"
   ]
  },
  {
   "cell_type": "code",
   "execution_count": null,
   "id": "dd1c1a56-f1cc-4c1e-8ca1-78421da33f95",
   "metadata": {},
   "outputs": [],
   "source": [
    "# Q2. Explain the key features of lists in Python."
   ]
  },
  {
   "cell_type": "raw",
   "id": "7b08bbb3-3ede-4a4c-9074-3824e3312322",
   "metadata": {},
   "source": [
    "String slicing allows you to access a specific part of a string using a [start:stop:step] syntax.\n",
    "\n",
    "start: The index where the slice starts (inclusive).\n",
    "stop: The index where the slice ends (exclusive).\n",
    "step: The interval between each index (optional)."
   ]
  },
  {
   "cell_type": "code",
   "execution_count": null,
   "id": "d6d617be-8813-4381-b0e8-ca48cd938942",
   "metadata": {},
   "outputs": [
    {
     "name": "stdout",
     "output_type": "stream",
     "text": [
      "3\n"
     ]
    }
   ],
   "source": [
    "my_list = [1, 2, 3, 4, 5]\n",
    "\n",
    "# Adding elements\n",
    "my_list.append(6)        # Adds 6 to the end of the list\n",
    "\n",
    "# Modifying elements\n",
    "my_list[1] = 20          # Changes the second element to 20\n",
    "\n",
    "# Removing elements\n",
    "del my_list[3]          # Removes the fourth element (value 4)\n",
    "\n",
    "# Accessing elements\n",
    "print(my_list[2])      # Output: 3\n"
   ]
  },
  {
   "cell_type": "code",
   "execution_count": null,
   "id": "d96dc5a5-004a-4400-a9cd-11c23f39d22d",
   "metadata": {},
   "outputs": [],
   "source": [
    "# Q3. Describe how to access, modify, and delete elements in a list with examples."
   ]
  },
  {
   "cell_type": "code",
   "execution_count": null,
   "id": "f80ff78e-7ba9-4f20-b29b-223c23f12a71",
   "metadata": {},
   "outputs": [
    {
     "name": "stdout",
     "output_type": "stream",
     "text": [
      "banana\n"
     ]
    }
   ],
   "source": [
    "fruits = [\"apple\", \"banana\", \"cherry\"]\n",
    "print(fruits[1])   # Output: 'banana'\n"
   ]
  },
  {
   "cell_type": "code",
   "execution_count": null,
   "id": "a16d7384-4ba9-4cd8-9120-6845cfe79aba",
   "metadata": {},
   "outputs": [
    {
     "name": "stdout",
     "output_type": "stream",
     "text": [
      "['apple', 'blueberry', 'cherry']\n"
     ]
    }
   ],
   "source": [
    "fruits[1] = \"blueberry\"\n",
    "print(fruits)      # Output: ['apple', 'blueberry', 'cherry']\n"
   ]
  },
  {
   "cell_type": "code",
   "execution_count": null,
   "id": "1d45a2fe-4eff-4b57-bf9f-6cd960ff1bbf",
   "metadata": {},
   "outputs": [
    {
     "name": "stdout",
     "output_type": "stream",
     "text": [
      "['apple', 'cherry']\n"
     ]
    }
   ],
   "source": [
    "del fruits[1]\n",
    "print(fruits)      # Output: ['apple', 'cherry']\n"
   ]
  },
  {
   "cell_type": "code",
   "execution_count": null,
   "id": "eb141815-d60e-4048-8fa6-8376f5875dec",
   "metadata": {},
   "outputs": [
    {
     "data": {
      "text/plain": [
       "[]"
      ]
     },
     "execution_count": 22,
     "metadata": {},
     "output_type": "execute_result"
    }
   ],
   "source": [
    "fruits.pop(0)     # Removes and returns the first element ('apple')\n",
    "fruits.remove('cherry')  # Removes the first occurrence of 'cherry'\n",
    "fruits\n"
   ]
  },
  {
   "cell_type": "code",
   "execution_count": null,
   "id": "626952fe-69cc-4fdc-9bd8-c0674a85866e",
   "metadata": {},
   "outputs": [],
   "source": [
    "# Q4. Compare and contrast tuples and lists with examples."
   ]
  },
  {
   "cell_type": "raw",
   "id": "5739d7dd-6285-4bf7-ac25-3c346d6f4d21",
   "metadata": {},
   "source": [
    "Tuples and Lists are both sequence data types, but they have key differences.\n",
    "\n",
    "Lists:\n",
    "\n",
    "Mutable: Can be changed after creation.\n",
    "Syntax: Defined with square brackets [ ].\n",
    "\n",
    "Tuples:\n",
    "\n",
    "Immutable: Cannot be changed after creation.\n",
    "Syntax: Defined with parentheses ( ).\n"
   ]
  },
  {
   "cell_type": "code",
   "execution_count": null,
   "id": "c258cff8-94fc-43fc-8a63-1a99694ccc9b",
   "metadata": {},
   "outputs": [],
   "source": [
    "my_list = [1, 2, 3]\n",
    "my_list[0] = 10    # Allowed\n"
   ]
  },
  {
   "cell_type": "code",
   "execution_count": null,
   "id": "3b534629-6d58-42f1-b3a5-852f11a2ed93",
   "metadata": {},
   "outputs": [],
   "source": [
    "my_tuple = (1, 2, 3)\n",
    "# my_tuple[0] = 10   # This would raise an error\n"
   ]
  },
  {
   "cell_type": "code",
   "execution_count": null,
   "id": "6ce86950-4206-4009-8da9-00ecc334f5e4",
   "metadata": {},
   "outputs": [],
   "source": [
    "# List Example\n",
    "list_example = [1, 2, 3, 4]\n",
    "list_example.append(5)  # [1, 2, 3, 4, 5]\n",
    "\n",
    "# Tuple Example\n",
    "tuple_example = (1, 2, 3, 4)\n",
    "# tuple_example.append(5)  # This would raise an AttributeError\n"
   ]
  },
  {
   "cell_type": "code",
   "execution_count": null,
   "id": "9ce586b1-a2b3-417e-a544-8efce7b2c6c3",
   "metadata": {},
   "outputs": [],
   "source": [
    "# Q5. Describe the key features of sets and provide examples of their use."
   ]
  },
  {
   "cell_type": "raw",
   "id": "8b519d52-78e0-40c7-87ed-a839e3772252",
   "metadata": {},
   "source": [
    " Key Features of Sets in Python\n",
    "Sets are collections of unique, unordered elements.\n",
    "\n",
    "Unordered: The items have no index.\n",
    "Mutable: You can add or remove items.\n",
    "No Duplicate Elements: Each element is unique.\n",
    "Supports Mathematical Operations: Intersection, union, difference."
   ]
  },
  {
   "cell_type": "code",
   "execution_count": null,
   "id": "c9f4d65e-3a08-45ca-b811-4901ce2b4f4c",
   "metadata": {},
   "outputs": [
    {
     "name": "stdout",
     "output_type": "stream",
     "text": [
      "{1, 2, 3, 4, 5}\n",
      "{3}\n",
      "{1, 2}\n"
     ]
    }
   ],
   "source": [
    "my_set = {1, 2, 3, 4}\n",
    "\n",
    "# Adding elements\n",
    "my_set.add(5)         # {1, 2, 3, 4, 5}\n",
    "\n",
    "# Removing elements\n",
    "my_set.remove(3)     # {1, 2, 4, 5}\n",
    "\n",
    "# Mathematical operations\n",
    "set1 = {1, 2, 3}\n",
    "set2 = {3, 4, 5}\n",
    "print(set1.union(set2))    # {1, 2, 3, 4, 5}\n",
    "print(set1.intersection(set2))  # {3}\n",
    "print(set1.difference(set2))   # {1, 2}\n"
   ]
  },
  {
   "cell_type": "raw",
   "id": "4bda30fe-819e-43d5-86b8-fa4d2bb27d49",
   "metadata": {},
   "source": [
    "Use Cases of Tuples and Sets\n",
    "Tuples:\n",
    "\n",
    "Data Integrity: When you need a collection of items that should not be modified, like function return values.\n",
    "Dictionary Keys: Tuples can be used as dictionary keys because they are immutable.\n"
   ]
  },
  {
   "cell_type": "code",
   "execution_count": null,
   "id": "99a57483-d5a0-4012-ba6e-db9e4bf54dc7",
   "metadata": {},
   "outputs": [],
   "source": [
    "# Q6. Discuss the use cases of tuples and sets in Python programming."
   ]
  },
  {
   "cell_type": "code",
   "execution_count": null,
   "id": "6c295554-46b2-416e-9944-412e53a0d085",
   "metadata": {},
   "outputs": [],
   "source": [
    "def get_coordinates():\n",
    "    return (10, 20)  # Returning immutable coordinates\n"
   ]
  },
  {
   "cell_type": "raw",
   "id": "afed2b35-9fdc-4529-860c-1a720508e9a1",
   "metadata": {},
   "source": [
    "Sets:\n",
    "\n",
    "Unique Elements: To keep a collection of unique items, such as removing duplicates.\n",
    "Set Operations: To perform mathematical operations like union or intersection."
   ]
  },
  {
   "cell_type": "code",
   "execution_count": null,
   "id": "d4161da8-ceb7-49e3-bba0-1fbac4af2c4c",
   "metadata": {},
   "outputs": [
    {
     "name": "stdout",
     "output_type": "stream",
     "text": [
      "{'b@example.com', 'a@example.com'}\n"
     ]
    }
   ],
   "source": [
    "emails = set(['a@example.com', 'b@example.com', 'a@example.com'])\n",
    "print(emails)  # {'a@example.com', 'b@example.com'}\n"
   ]
  },
  {
   "cell_type": "code",
   "execution_count": null,
   "id": "bfde34b9-af6e-4983-bc75-780c8f8db424",
   "metadata": {},
   "outputs": [],
   "source": [
    "# Q7. Describe how to add, modify, and delete items in a dictionary with examples."
   ]
  },
  {
   "cell_type": "code",
   "execution_count": null,
   "id": "8fa6545c-8c32-4b9e-9452-125af08aa41a",
   "metadata": {},
   "outputs": [],
   "source": [
    "my_dict = {'a': 1, 'b': 2}\n",
    "my_dict['c'] = 3  # Adding a new key-value pair\n"
   ]
  },
  {
   "cell_type": "code",
   "execution_count": null,
   "id": "f0db3cc4-dd31-417d-b0f5-c01ed151179b",
   "metadata": {},
   "outputs": [],
   "source": [
    "my_dict['a'] = 10  # Changing the value for key 'a'\n"
   ]
  },
  {
   "cell_type": "code",
   "execution_count": null,
   "id": "5f4df47e-96d0-4088-a6d2-4e1669b1a044",
   "metadata": {},
   "outputs": [],
   "source": [
    "del my_dict['b']  # Removing the key-value pair with key 'b'\n",
    "# Alternatively:\n",
    "value = my_dict.pop('a')  # Removes 'a' and returns its value (10)\n"
   ]
  },
  {
   "cell_type": "code",
   "execution_count": null,
   "id": "84de9254-bb18-4dda-b871-cee47c0e66ec",
   "metadata": {},
   "outputs": [],
   "source": [
    "my_dict = {'name': 'Alice', 'age': 25}\n",
    "\n",
    "# Adding an item\n",
    "my_dict['city'] = 'New York'\n",
    "\n",
    "# Modifying an item\n",
    "my_dict['age'] = 26\n",
    "\n",
    "# Deleting an item\n",
    "del my_dict['city']\n"
   ]
  },
  {
   "cell_type": "code",
   "execution_count": null,
   "id": "75c563d9-e367-4b0f-8d3c-def44cd65c9b",
   "metadata": {},
   "outputs": [],
   "source": [
    "# Q8. Discuss the importance of dictionary keys being immutable and provide examples."
   ]
  },
  {
   "cell_type": "raw",
   "id": "b5ba627f-bc8a-4898-8fb3-8f389979513f",
   "metadata": {},
   "source": [
    "Dictionary keys must be immutable so that the hash value (used for indexing) remains consistent.\n",
    "\n",
    "Examples of Immutable Keys:"
   ]
  },
  {
   "cell_type": "code",
   "execution_count": null,
   "id": "bf884b76-b6fd-49db-b242-1942cb4e3f5b",
   "metadata": {},
   "outputs": [
    {
     "ename": "TypeError",
     "evalue": "unhashable type: 'list'",
     "output_type": "error",
     "traceback": [
      "\u001b[0;31m---------------------------------------------------------------------------\u001b[0m",
      "\u001b[0;31mTypeError\u001b[0m                                 Traceback (most recent call last)",
      "Cell \u001b[0;32mIn[37], line 5\u001b[0m\n\u001b[1;32m      2\u001b[0m my_dict \u001b[38;5;241m=\u001b[39m {(\u001b[38;5;124m'\u001b[39m\u001b[38;5;124ma\u001b[39m\u001b[38;5;124m'\u001b[39m, \u001b[38;5;124m'\u001b[39m\u001b[38;5;124mb\u001b[39m\u001b[38;5;124m'\u001b[39m): \u001b[38;5;241m1\u001b[39m}  \u001b[38;5;66;03m# Tuple is immutable\u001b[39;00m\n\u001b[1;32m      4\u001b[0m \u001b[38;5;66;03m# Invalid\u001b[39;00m\n\u001b[0;32m----> 5\u001b[0m my_dict \u001b[38;5;241m=\u001b[39m {[\u001b[38;5;241m1\u001b[39m, \u001b[38;5;241m2\u001b[39m, \u001b[38;5;241m3\u001b[39m]: \u001b[38;5;241m1\u001b[39m}  \u001b[38;5;66;03m# List is mutable and cannot be used as a key\u001b[39;00m\n",
      "\u001b[0;31mTypeError\u001b[0m: unhashable type: 'list'"
     ]
    }
   ],
   "source": [
    "# Valid\n",
    "my_dict = {('a', 'b'): 1}  # Tuple is immutable\n",
    "\n",
    "# Invalid\n",
    "my_dict = {[1, 2, 3]: 1}  # List is mutable and cannot be used as a key\n"
   ]
  },
  {
   "cell_type": "raw",
   "id": "05afad5e-ac30-47f1-9673-ed0142c07886",
   "metadata": {},
   "source": [
    "Why Immutability Matters:\n",
    "\n",
    "Hash Consistency: Immutable types have a constant hash value, ensuring that the key remains valid for retrieval.\n",
    "Data Integrity: Prevents changes to keys that could corrupt the internal data structure of the dictionary."
   ]
  },
  {
   "cell_type": "code",
   "execution_count": null,
   "id": "c814cd05-f2a2-4ca5-9a5d-3394975a78a5",
   "metadata": {},
   "outputs": [
    {
     "ename": "TypeError",
     "evalue": "unhashable type: 'list'",
     "output_type": "error",
     "traceback": [
      "\u001b[0;31m---------------------------------------------------------------------------\u001b[0m",
      "\u001b[0;31mTypeError\u001b[0m                                 Traceback (most recent call last)",
      "Cell \u001b[0;32mIn[38], line 5\u001b[0m\n\u001b[1;32m      2\u001b[0m my_dict \u001b[38;5;241m=\u001b[39m {(\u001b[38;5;124m'\u001b[39m\u001b[38;5;124mkey1\u001b[39m\u001b[38;5;124m'\u001b[39m, \u001b[38;5;124m'\u001b[39m\u001b[38;5;124mkey2\u001b[39m\u001b[38;5;124m'\u001b[39m): \u001b[38;5;124m'\u001b[39m\u001b[38;5;124mvalue\u001b[39m\u001b[38;5;124m'\u001b[39m}\n\u001b[1;32m      4\u001b[0m \u001b[38;5;66;03m# Mutable key (will cause an error)\u001b[39;00m\n\u001b[0;32m----> 5\u001b[0m my_dict \u001b[38;5;241m=\u001b[39m {[\u001b[38;5;241m1\u001b[39m, \u001b[38;5;241m2\u001b[39m, \u001b[38;5;241m3\u001b[39m]: \u001b[38;5;124m'\u001b[39m\u001b[38;5;124mvalue\u001b[39m\u001b[38;5;124m'\u001b[39m}  \u001b[38;5;66;03m# This will raise a TypeError\u001b[39;00m\n",
      "\u001b[0;31mTypeError\u001b[0m: unhashable type: 'list'"
     ]
    }
   ],
   "source": [
    "# Immutable key\n",
    "my_dict = {('key1', 'key2'): 'value'}\n",
    "\n",
    "# Mutable key (will cause an error)\n",
    "my_dict = {[1, 2, 3]: 'value'}  # This will raise a TypeError\n"
   ]
  },
  {
   "cell_type": "code",
   "execution_count": null,
   "id": "c65e0b14-c966-44d1-90d1-e166fba59235",
   "metadata": {},
   "outputs": [],
   "source": []
  }
 ],
 "metadata": {
  "kernelspec": {
   "display_name": "Python 3 (ipykernel)",
   "language": "python",
   "name": "python3"
  },
  "language_info": {
   "codemirror_mode": {
    "name": "ipython",
    "version": 3
   },
   "file_extension": ".py",
   "mimetype": "text/x-python",
   "name": "python",
   "nbconvert_exporter": "python",
   "pygments_lexer": "ipython3",
   "version": "3.10.8"
  }
 },
 "nbformat": 4,
 "nbformat_minor": 5
}
